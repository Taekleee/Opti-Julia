{
 "cells": [
  {
   "cell_type": "markdown",
   "id": "5d9dbfde",
   "metadata": {},
   "source": [
    "# Problema 1\n",
    "\n",
    "Para aumentar su competitividad, una compañía desea optimizar la manufactura de sus\n",
    "productos más vendidos. La principal actividad de la compañía es la producción de tarjetas\n",
    "electrónicas. La compañía, también produce los componentes para el ensamblado de las tarjetas.\n",
    "Una buena planificación de la producción de los componentes constituye, por tanto, un factor de\n",
    "éxito decisivo para la empresa. La demanda de los componentes en este caso es interna, por lo\n",
    "tanto, fácil de proyectar.\n",
    "Se quiere planificar para los próximos tres meses la producción de cuatro componentes\n",
    "referenciados como AX22-M1, AX22-M2, CX32-N1 y CX32-N2. La demanda mensual para cada tipo\n",
    "de componente se muestra en la siguiente tabla.\n",
    "\n"
   ]
  },
  {
   "cell_type": "markdown",
   "id": "c255ae03",
   "metadata": {},
   "source": [
    "# Problema 2\n",
    "\n",
    "Se está prospectado una mina de uranio a cielo abierto. Sobre la base de los resultados de\n",
    "algunas perforaciones de prueba, la mina se ha subdividido en unidades de explotación\n",
    "denominadas bloques. Las excavaciones se deben realizar en forma aterrazada, con el fin de\n",
    "permitir la circulación de los camiones. El yacimiento se extiende de este a oeste, viéndose\n",
    "limitada por un pueblo y por un conjunto montañoso. Considerando estas limitaciones, se han\n",
    "identificado 18 bloques de 10.000 toneladas distribuidos en tres niveles. Para extraer un bloque,\n",
    "es necesario antes extraer tres bloques del nivel inmediatamente superior, siendo estos, el bloque\n",
    "superior y los ubicados a la derecha y a la izquierda de este. Ejemplo: Para extraer el bloque 16,\n",
    "antes se deben extraer los bloques 10, 11 y 12. "
   ]
  },
  {
   "cell_type": "markdown",
   "id": "d7979e06",
   "metadata": {},
   "source": [
    "Resolución:\n",
    "Variables de decisión: \n",
    "    $x_{i}$ = puede tomar valores 0 o 1, donde 0 significa que no se extrae el bloque y 1 que si\n",
    "    $i = 1,2,3,..., 18$\n",
    "\n",
    "Función objetivo: \n",
    "    z: max $\\sum_{i=1}^{18} (v_{i} - c_{i})*x_{i}$\n",
    "\n",
    "La función objetivo corresponde a la suma del beneficio, es decir, el precio de venta del bloque menos el costo que tiene extraerlo, por x, el cual indica si el bloque se extrae o no. \n",
    "\n",
    "Restricciones:\n",
    "    $x_{9} - x_{1} \\leq 0$,\n",
    "    $x_{9} - x_{2} \\leq 0$,\n",
    "    $x_{9} - x_{3} \\leq 0$,\n",
    "    $x_{10} - x_{2} \\leq 0$,\n",
    "    $x_{10} - x_{3} \\leq 0$,\n",
    "    $x_{10} - x_{4} \\leq 0$,\n",
    "    $x_{11} - x_{3} \\leq 0$,\n",
    "    $x_{11} - x_{4} \\leq 0$,\n",
    "    $x_{11} - x_{5} \\leq 0$,\n",
    "    $x_{12} - x_{4} \\leq 0$,\n",
    "    $x_{12} - x_{5} \\leq 0$,\n",
    "    $x_{12} - x_{6} \\leq 0$,\n",
    "    $x_{13} - x_{5} \\leq 0$,\n",
    "    $x_{13} - x_{6} \\leq 0$,\n",
    "    $x_{13} - x_{7} \\leq 0$,\n",
    "    $x_{14} - x_{6} \\leq 0$,\n",
    "    $x_{14} - x_{7} \\leq 0$,\n",
    "    $x_{14} - x_{8} \\leq 0$,\n",
    "    $x_{15} - x_{9} \\leq 0$,\n",
    "    $x_{15} - x_{10} \\leq 0$,\n",
    "    $x_{15} - x_{11} \\leq 0$,\n",
    "    $x_{16} - x_{10} \\leq 0$,\n",
    "    $x_{16} - x_{11} \\leq 0$,\n",
    "    $x_{16} - x_{12} \\leq 0$,\n",
    "    $x_{17} - x_{11} \\leq 0$,\n",
    "    $x_{17} - x_{12} \\leq 0$,\n",
    "    $x_{17} - x_{13} \\leq 0$,\n",
    "    $x_{18} - x_{12} \\leq 0$,\n",
    "    $x_{18} - x_{13} \\leq 0$,\n",
    "    $x_{18} - x_{14} \\leq 0$\n",
    "    \n",
    "    \n",
    "Las restricciones contempla que ningún bloque se puede extraer si es que los tres bloques de nivel superior (el inmediatamente superior y el que se encuentra a su izquierda y derecha), se extraen primero. \n",
    "Por lo anterior es que los bloques del 1 al 8 no tienen restricciones. "
   ]
  },
  {
   "cell_type": "code",
   "execution_count": 10,
   "id": "3d9473b7",
   "metadata": {},
   "outputs": [
    {
     "data": {
      "text/latex": [
       "$$ -x_{14} + x_{18} \\leq 0.0 $$"
      ],
      "text/plain": [
       "-x[14] + x[18] ≤ 0.0"
      ]
     },
     "execution_count": 10,
     "metadata": {},
     "output_type": "execute_result"
    }
   ],
   "source": [
    "import Pkg # Importa el administrador de paquetes Pkg\n",
    "Pkg.add(\"JuMP\") # Instala el paquete JuMP\n",
    "Pkg.add(\"GLPK\") # Instala el paquete GLPK\n",
    "using JuMP # Importa el modulo JuMP.\n",
    "using GLPK # Importa el modulo GLPK para utilizar el solver.\n",
    "\n",
    "# Se define como modeloProblema2 a la construcción del modelo. \n",
    "modeloProblema2 = Model(with_optimizer(GLPK.Optimizer))\n",
    "\n",
    "#Se define un arreglo con los costos que tiene extraer cada uno de los bloques, los cuales son correlativos a la\n",
    "#posición en que se encuentran, es decir, el primer elemento indica que el bloque 1 cuesta 1.000.000 extraer una \n",
    "#tonelada, el segundo es respecto al bloque 2, y así sucesivamente. \n",
    "c = [1000000,1000000,1000000,1000000,1000000,1000000,1000000,1000000,10000000,2000000,2000000,2000000,2000000,10000000,10000000,10000000,3000000,10000000]\n",
    "\n",
    "#También se define un arreglo que indica a cuanto se vende cada bloque, los cuales también son correlativos a la \n",
    "#posición en la que se encuentran. \n",
    "v = [2000000,0,0,0,0,0,3000000,0,0,5000000,0,2000000,0,0,0,0,10000000,12000000]\n",
    "\n",
    "\n",
    "#Luego se define que el problema tendrá 18 variables de decisión, a las que se le asigna el nombre \"x\" y que son\n",
    "#de tipo binaria, es decir, solo pueden tomar valores 0 o 1. Estas variables representan si el bloque se sacará o no\n",
    "@variable(modeloProblema2, x[1:18], Bin)\n",
    "\n",
    "#Se debe modelar con objetive la función objetivo, a la cual se le indica que es una maximización. Se le entrega el \n",
    "#arreglo de venta, costos y las variables de decisión. \n",
    "@objective(modeloProblema2, Max, sum((v[i]-c[i])*x[i] for i in 1:18))\n",
    "\n",
    "#A continuación se definen con constraint las restricciones que tiene el modelo. Como ya se indicó que las variables de\n",
    "#decisión solo pueden tomar valores 0 o 1, no es necesario volver a especificarlo en las restricciones. \n",
    "@constraint(modeloProblema2, x[9] - x[1] <= 0)\n",
    "@constraint(modeloProblema2, x[9] - x[2] <= 0)\n",
    "@constraint(modeloProblema2, x[9] - x[3] <= 0)\n",
    "@constraint(modeloProblema2, x[10] - x[2] <= 0)\n",
    "@constraint(modeloProblema2, x[10] - x[3] <= 0)\n",
    "@constraint(modeloProblema2, x[10] - x[4] <= 0)\n",
    "@constraint(modeloProblema2, x[11] - x[3] <= 0)\n",
    "@constraint(modeloProblema2, x[11] - x[4] <= 0)\n",
    "@constraint(modeloProblema2, x[11] - x[5] <= 0)\n",
    "@constraint(modeloProblema2, x[12] - x[4] <= 0)\n",
    "@constraint(modeloProblema2, x[12] - x[5] <= 0)\n",
    "@constraint(modeloProblema2, x[12] - x[6] <= 0)\n",
    "@constraint(modeloProblema2, x[13] - x[5] <= 0)\n",
    "@constraint(modeloProblema2, x[13] - x[6] <= 0)\n",
    "@constraint(modeloProblema2, x[13] - x[7] <= 0)\n",
    "@constraint(modeloProblema2, x[14] - x[6] <= 0)\n",
    "@constraint(modeloProblema2, x[14] - x[7] <= 0)\n",
    "@constraint(modeloProblema2, x[14] - x[8] <= 0)\n",
    "@constraint(modeloProblema2, x[15] - x[9] <= 0)\n",
    "@constraint(modeloProblema2, x[15] - x[10] <= 0)\n",
    "@constraint(modeloProblema2, x[15] - x[11] <= 0)\n",
    "@constraint(modeloProblema2, x[16] - x[10] <= 0)\n",
    "@constraint(modeloProblema2, x[16] - x[11] <= 0)\n",
    "@constraint(modeloProblema2, x[16] - x[12] <= 0)\n",
    "@constraint(modeloProblema2, x[17] - x[11] <= 0)\n",
    "@constraint(modeloProblema2, x[17] - x[12] <= 0)\n",
    "@constraint(modeloProblema2, x[17] - x[13] <= 0)\n",
    "@constraint(modeloProblema2, x[18] - x[12] <= 0)\n",
    "@constraint(modeloProblema2, x[18] - x[13] <= 0)\n",
    "@constraint(modeloProblema2, x[18] - x[14] <= 0)"
   ]
  },
  {
   "cell_type": "code",
   "execution_count": 6,
   "id": "1a3799b1",
   "metadata": {},
   "outputs": [
    {
     "data": {
      "text/plain": [
       "4.0e6"
      ]
     },
     "execution_count": 6,
     "metadata": {},
     "output_type": "execute_result"
    }
   ],
   "source": [
    "#Por último, se resuelve el problema de optimización, el cuál entrega un valor de 4*10^6, lo que indica que esa es la\n",
    "#ganancia que se obtiene al sacar los bloques. \n",
    "optimize!(modeloProblema2)\n",
    "objective_value(modeloProblema2)"
   ]
  },
  {
   "cell_type": "code",
   "execution_count": 7,
   "id": "fbc0bcf8",
   "metadata": {},
   "outputs": [
    {
     "name": "stdout",
     "output_type": "stream",
     "text": [
      "Variable X1 = 1.0\n",
      "Variable X2 = 1.0\n",
      "Variable X3 = 1.0\n",
      "Variable X4 = 1.0\n",
      "Variable X5 = 1.0\n",
      "Variable X6 = 1.0\n",
      "Variable X7 = 1.0\n",
      "Variable X8 = 0.0\n",
      "Variable X9 = 0.0\n",
      "Variable X10 = 1.0\n",
      "Variable X11 = 1.0\n",
      "Variable X12 = 1.0\n",
      "Variable X13 = 1.0\n",
      "Variable X14 = 0.0\n",
      "Variable X15 = 0.0\n",
      "Variable X16 = 0.0\n",
      "Variable X17 = 1.0\n",
      "Variable X18 = 0.0\n"
     ]
    }
   ],
   "source": [
    "#Mediante el for también es posible obtener los valores que adquiere cada una de las variables de decisión, \n",
    "#las cuales si se encuentran en 1 indican que el bloque fue sacado y en 0 que no. En este caso, se sacaron 12 bloques.\n",
    "for j in 1:18\n",
    "    println(\"Variable X\",j,\" = \",value(x[j]))\n",
    "end"
   ]
  }
 ],
 "metadata": {
  "kernelspec": {
   "display_name": "Julia 1.6.1",
   "language": "julia",
   "name": "julia-1.6"
  },
  "language_info": {
   "file_extension": ".jl",
   "mimetype": "application/julia",
   "name": "julia",
   "version": "1.6.1"
  }
 },
 "nbformat": 4,
 "nbformat_minor": 5
}

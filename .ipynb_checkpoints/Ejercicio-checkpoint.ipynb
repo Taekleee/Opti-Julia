{
 "cells": [
  {
   "cell_type": "markdown",
   "metadata": {},
   "source": [
    "# Tarea 2\n",
    "\n",
    "Realizado por Catalina Morales Rojas y Vicente Vega Toro"
   ]
  },
  {
   "cell_type": "markdown",
   "metadata": {},
   "source": [
    "# Problema 1\n",
    "\n",
    "Para aumentar su competitividad, una compañía desea optimizar la manufactura de sus\n",
    "productos más vendidos. La principal actividad de la compañía es la producción de tarjetas\n",
    "electrónicas. La compañía, también produce los componentes para el ensamblado de las tarjetas.\n",
    "Una buena planificación de la producción de los componentes constituye, por tanto, un factor de\n",
    "éxito decisivo para la empresa. La demanda de los componentes en este caso es interna, por lo\n",
    "tanto, fácil de proyectar.\n",
    "Se quiere planificar para los próximos tres meses la producción de cuatro componentes\n",
    "referenciados como AX22-M1, AX22-M2, CX32-N1 y CX32-N2. La demanda mensual para cada tipo\n",
    "de componente se muestra en la siguiente tabla.\n",
    "\n"
   ]
  },
  {
   "cell_type": "code",
   "execution_count": 1,
   "metadata": {},
   "outputs": [
    {
     "data": {
      "text/plain": [
       "A JuMP Model\n",
       "Feasibility problem with:\n",
       "Variables: 0\n",
       "Model mode: AUTOMATIC\n",
       "CachingOptimizer state: EMPTY_OPTIMIZER\n",
       "Solver name: GLPK"
      ]
     },
     "execution_count": 1,
     "metadata": {},
     "output_type": "execute_result"
    }
   ],
   "source": [
    "import Pkg\n",
    "Pkg.add(\"JuMP\")\n",
    "Pkg.add(\"GLPK\")\n",
    "\n",
    "using JuMP\n",
    "using GLPK\n",
    "\n",
    "modelo = Model(with_optimizer(GLPK.Optimizer))"
   ]
  },
  {
   "cell_type": "markdown",
   "metadata": {},
   "source": [
    "Las variables de decisión se definen como \n",
    "\n",
    "$$ X_{i,j}: unidades\\ de\\ componentes\\ tipo\\ i\\ producidas\\ en\\ el\\ mes\\ j $$ \n",
    "\n",
    "con $i$ = 1,2,3,4 y $j$ = 1,2,3\n",
    "\n",
    "$$ Y_{i,j}: unidades\\ de\\ componentes\\ tipo\\ i\\ almacenadas\\ al\\ final\\ del\\ mes\\ j$$\n",
    "\n",
    "con $i$ = 1,2,3,4 y $j$ = 1,2,3\n",
    "\n",
    "Se definen los datos utilizados para la definición de la función objetivo y las restricciones, donde\n",
    "\n",
    "$ P $: es el costo (U.M.) de producción de los componentes.  \n",
    "$ A $: es el costo (U.M.) de almacenaje de los componentes.   \n",
    "$ D $: es la demanda de las unidades para los componentes.   \n",
    "$ T $: Tiempo máquina para los componentes.\n",
    "\n",
    "La función objetivo está definida como \n",
    "\n",
    "Minimizar $$ 20(X_{11}+X_{12}+X_{13}) + 25(X_{21} + X_{22} + X_{23}) + 10(X_{31}+X_{32}+X_{33}) + 15(X_{41}+X_{41}+X_{43}) + 0.4(I_{11}+I_{12}) + 0.5(I_{21} + I_{22}) + 0.3(I_{31} + I_{32}) + 0.3(I_{41} + I_{42}) $$"
   ]
  },
  {
   "cell_type": "code",
   "execution_count": 2,
   "metadata": {},
   "outputs": [
    {
     "data": {
      "text/latex": [
       "$$ 20 x_{1,1} + 20 x_{1,2} + 20 x_{1,3} + 25 x_{2,1} + 25 x_{2,2} + 25 x_{2,3} + 10 x_{3,1} + 10 x_{3,2} + 10 x_{3,3} + 15 x_{4,1} + 15 x_{4,2} + 15 x_{4,3} + 0.4 y_{1,1} + 0.4 y_{1,2} + 0.5 y_{2,1} + 0.5 y_{2,2} + 0.3 y_{3,1} + 0.3 y_{3,2} + 0.3 y_{4,1} + 0.3 y_{4,2} $$"
      ],
      "text/plain": [
       "20 x[1,1] + 20 x[1,2] + 20 x[1,3] + 25 x[2,1] + 25 x[2,2] + 25 x[2,3] + 10 x[3,1] + 10 x[3,2] + 10 x[3,3] + 15 x[4,1] + 15 x[4,2] + 15 x[4,3] + 0.4 y[1,1] + 0.4 y[1,2] + 0.5 y[2,1] + 0.5 y[2,2] + 0.3 y[3,1] + 0.3 y[3,2] + 0.3 y[4,1] + 0.3 y[4,2]"
      ]
     },
     "execution_count": 2,
     "metadata": {},
     "output_type": "execute_result"
    }
   ],
   "source": [
    "# Variables de decisión \n",
    "@variable(modelo,x[1:4,1:3] >= 0)\n",
    "@variable(modelo,y[1:4,1:2] >= 0)\n",
    "\n",
    "# Parámetros de la función\n",
    "P = [20;25;10;15]\n",
    "A = [0.4;0.5;0.3;0.3]\n",
    "\n",
    "D = [1500 3000 2000;\n",
    "     1300 800 800;\n",
    "     2200 1500 2900;\n",
    "     1400 1600 1500]\n",
    "\n",
    "T = [0.2; 0.22; 0.24; 0.18]\n",
    "\n",
    "# Función objetivo a minimizar\n",
    "@objective(modelo, Min, sum(P[i]*x[i,k] for i in 1:4, k in 1:3) + sum(A[i]*y[i,k] for i in 1:4, k in 1:2))"
   ]
  },
  {
   "cell_type": "markdown",
   "metadata": {},
   "source": [
    "Para las restricciones se deben cumplir lo siguiente: \n",
    "\n",
    "1. El tiempo disponible no tiene que ser superado por el tiempo total de máquina que ha sido utilizado. \n",
    "\n",
    "$$ 0.2X_{11} + 0.22X_{21} + 0.24X_{31} + 0.18X_{41} \\leq 2000  $$\n",
    "$$ 0.2X_{12} + 0.22X_{22} + 0.24X_{32} + 0.18X_{42} \\leq 2000  $$\n",
    "$$ 0.2X_{13} + 0.22X_{23} + 0.24X_{33} + 0.18X_{43} \\leq 2000  $$\n",
    "\n",
    "2. Para cada producto se debe cumplir que el inventario inicial mas la producción menos el inventario final debe ser igual a la demanda. \n",
    "\n",
    "$$10 + X_{11} - I_{11} = 1500$$\n",
    "$$I_{11} + X_{12} - I_{12} = 3000$$\n",
    "$$I_{12} + X_{13} - 50 = 2000$$\n",
    "\n",
    "$$X_{21} - I_{21} = 1300$$\n",
    "$$I_{21} + X_{22} - I_{22} = 800$$\n",
    "$$I_{22} + X_{23} - 10 = 800$$\n",
    "\n",
    "$$X_{31} - I_{31} = 2200$$\n",
    "$$I_{31} + X_{32} - I_{32} = 1500$$\n",
    "$$I_{32} + X_{33} - 10 = 2900$$\n",
    "\n",
    "$$X_{41} - I_{41} = 1400$$\n",
    "$$I_{41} + X_{42} - I_{42} = 1600$$\n",
    "$$I_{42} + X_{43} - 10 = 1500$$"
   ]
  },
  {
   "cell_type": "code",
   "execution_count": 3,
   "metadata": {},
   "outputs": [
    {
     "data": {
      "text/latex": [
       "$$ x_{1,3} + y_{1,2} = 2050.0 $$"
      ],
      "text/plain": [
       "x[1,3] + y[1,2] = 2050.0"
      ]
     },
     "execution_count": 3,
     "metadata": {},
     "output_type": "execute_result"
    }
   ],
   "source": [
    "for i in 1:3\n",
    "    @constraint(modelo,sum(T[j]*x[j,i] for j in 1:4) <= 2000)\n",
    "end\n",
    "\n",
    "for i in 1:3\n",
    "    @constraint(modelo,x[i+1,1] - y[i+1,1] == D[i+1,1] )\n",
    "    @constraint(modelo,y[i+1,1] + x[i+1,2] - y[i+1,2] == D[i+1,2])\n",
    "    @constraint(modelo,y[i+1,2] + x[i+1,3] - 10 == D[i+1,3])\n",
    "end\n",
    "\n",
    "@constraint(modelo,10+x[1,1]-y[1,1] == D[1,1])\n",
    "@constraint(modelo,y[1,1] + x[1,2] - y[1,2] == D[1,2])\n",
    "@constraint(modelo,y[1,2] + x[1,3] - 50 == D[1,3])"
   ]
  },
  {
   "cell_type": "code",
   "execution_count": 4,
   "metadata": {},
   "outputs": [
    {
     "data": {
      "text/plain": [
       "337300.0"
      ]
     },
     "execution_count": 4,
     "metadata": {},
     "output_type": "execute_result"
    }
   ],
   "source": [
    "optimize!(modelo)\n",
    "objective_value(modelo)"
   ]
  },
  {
   "cell_type": "markdown",
   "metadata": {},
   "source": [
    "Finalmente, se obtienen el valor para cada una de las variables definidas en el modelo.\n",
    "\n",
    "Donde primero se tiene el valor que se debe producir de cada componente en un mes determinado.\n"
   ]
  },
  {
   "cell_type": "code",
   "execution_count": 5,
   "metadata": {},
   "outputs": [
    {
     "name": "stdout",
     "output_type": "stream",
     "text": [
      "Variable X11 = 1490.0\n",
      "Variable X12 = 3000.0\n",
      "Variable X13 = 2050.0\n",
      "Variable X21 = 1300.0\n",
      "Variable X22 = 800.0\n",
      "Variable X23 = 810.0\n",
      "Variable X31 = 2200.0\n",
      "Variable X32 = 1500.0\n",
      "Variable X33 = 2910.0\n",
      "Variable X41 = 1400.0\n",
      "Variable X42 = 1600.0\n",
      "Variable X43 = 1510.0\n"
     ]
    }
   ],
   "source": [
    "for i in 1:4\n",
    "    for j in 1:3\n",
    "        println(\"Variable X\",i,j,\" = \", value(x[i,j]))\n",
    "    end\n",
    "end"
   ]
  },
  {
   "cell_type": "markdown",
   "metadata": {},
   "source": [
    "Por otro lado, se muestran la cantidad de componentes que estarán almacenados en un mes determinado, dando a entender que en ningún mes se estará guardando componentes."
   ]
  },
  {
   "cell_type": "code",
   "execution_count": 6,
   "metadata": {},
   "outputs": [
    {
     "name": "stdout",
     "output_type": "stream",
     "text": [
      "Variable Y11 = 0.0\n",
      "Variable Y12 = 0.0\n",
      "Variable Y21 = 0.0\n",
      "Variable Y22 = 0.0\n",
      "Variable Y31 = 0.0\n",
      "Variable Y32 = 0.0\n",
      "Variable Y41 = 0.0\n",
      "Variable Y42 = 0.0\n"
     ]
    }
   ],
   "source": [
    "for i in 1:4\n",
    "    for j in 1:2\n",
    "        println(\"Variable Y\",i,j,\" = \", value(y[i,j]))\n",
    "    end\n",
    "end"
   ]
  },
  {
   "cell_type": "markdown",
   "metadata": {},
   "source": [
    "# Problema 2\n",
    "\n",
    "Se está prospectado una mina de uranio a cielo abierto. Sobre la base de los resultados de\n",
    "algunas perforaciones de prueba, la mina se ha subdividido en unidades de explotación\n",
    "denominadas bloques. Las excavaciones se deben realizar en forma aterrazada, con el fin de\n",
    "permitir la circulación de los camiones. El yacimiento se extiende de este a oeste, viéndose\n",
    "limitada por un pueblo y por un conjunto montañoso. Considerando estas limitaciones, se han\n",
    "identificado 18 bloques de 10.000 toneladas distribuidos en tres niveles. Para extraer un bloque,\n",
    "es necesario antes extraer tres bloques del nivel inmediatamente superior, siendo estos, el bloque\n",
    "superior y los ubicados a la derecha y a la izquierda de este. Ejemplo: Para extraer el bloque 16,\n",
    "antes se deben extraer los bloques 10, 11 y 12. "
   ]
  },
  {
   "cell_type": "markdown",
   "metadata": {},
   "source": [
    "Resolución:\n",
    "Variables de decisión: \n",
    "    $x_{i}$ = puede tomar valores 0 o 1, donde 0 significa que no se extrae el bloque y 1 que si\n",
    "    $i = 1,2,3,..., 18$\n",
    "\n",
    "Función objetivo: \n",
    "    z: max $\\sum_{i=1}^{18} (v_{i} - c_{i})*x_{i}$\n",
    "\n",
    "La función objetivo corresponde a la suma del beneficio, es decir, el precio de venta del bloque menos el costo que tiene extraerlo, por x, el cual indica si el bloque se extrae o no. \n",
    "\n",
    "Restricciones:\n",
    "    $x_{9} - x_{1} \\leq 0$,\n",
    "    $x_{9} - x_{2} \\leq 0$,\n",
    "    $x_{9} - x_{3} \\leq 0$,\n",
    "    $x_{10} - x_{2} \\leq 0$,\n",
    "    $x_{10} - x_{3} \\leq 0$,\n",
    "    $x_{10} - x_{4} \\leq 0$,\n",
    "    $x_{11} - x_{3} \\leq 0$,\n",
    "    $x_{11} - x_{4} \\leq 0$,\n",
    "    $x_{11} - x_{5} \\leq 0$,\n",
    "    $x_{12} - x_{4} \\leq 0$,\n",
    "    $x_{12} - x_{5} \\leq 0$,\n",
    "    $x_{12} - x_{6} \\leq 0$,\n",
    "    $x_{13} - x_{5} \\leq 0$,\n",
    "    $x_{13} - x_{6} \\leq 0$,\n",
    "    $x_{13} - x_{7} \\leq 0$,\n",
    "    $x_{14} - x_{6} \\leq 0$,\n",
    "    $x_{14} - x_{7} \\leq 0$,\n",
    "    $x_{14} - x_{8} \\leq 0$,\n",
    "    $x_{15} - x_{9} \\leq 0$,\n",
    "    $x_{15} - x_{10} \\leq 0$,\n",
    "    $x_{15} - x_{11} \\leq 0$,\n",
    "    $x_{16} - x_{10} \\leq 0$,\n",
    "    $x_{16} - x_{11} \\leq 0$,\n",
    "    $x_{16} - x_{12} \\leq 0$,\n",
    "    $x_{17} - x_{11} \\leq 0$,\n",
    "    $x_{17} - x_{12} \\leq 0$,\n",
    "    $x_{17} - x_{13} \\leq 0$,\n",
    "    $x_{18} - x_{12} \\leq 0$,\n",
    "    $x_{18} - x_{13} \\leq 0$,\n",
    "    $x_{18} - x_{14} \\leq 0$\n",
    "    \n",
    "    \n",
    "Las restricciones contempla que ningún bloque se puede extraer si es que los tres bloques de nivel superior (el inmediatamente superior y el que se encuentra a su izquierda y derecha), se extraen primero. \n",
    "Por lo anterior es que los bloques del 1 al 8 no tienen restricciones. "
   ]
  },
  {
   "cell_type": "code",
   "execution_count": 10,
   "metadata": {},
   "outputs": [
    {
     "data": {
      "text/latex": [
       "$$ -x_{14} + x_{18} \\leq 0.0 $$"
      ],
      "text/plain": [
       "-x[14] + x[18] ≤ 0.0"
      ]
     },
     "execution_count": 10,
     "metadata": {},
     "output_type": "execute_result"
    }
   ],
   "source": [
    "import Pkg # Importa el administrador de paquetes Pkg\n",
    "Pkg.add(\"JuMP\") # Instala el paquete JuMP\n",
    "Pkg.add(\"GLPK\") # Instala el paquete GLPK\n",
    "using JuMP # Importa el modulo JuMP.\n",
    "using GLPK # Importa el modulo GLPK para utilizar el solver.\n",
    "\n",
    "# Se define como modeloProblema2 a la construcción del modelo. \n",
    "modeloProblema2 = Model(with_optimizer(GLPK.Optimizer))\n",
    "\n",
    "#Se define un arreglo con los costos que tiene extraer cada uno de los bloques, los cuales son correlativos a la\n",
    "#posición en que se encuentran, es decir, el primer elemento indica que el bloque 1 cuesta 1.000.000 extraer una \n",
    "#tonelada, el segundo es respecto al bloque 2, y así sucesivamente. \n",
    "c = [1000000,1000000,1000000,1000000,1000000,1000000,1000000,1000000,10000000,2000000,2000000,2000000,2000000,10000000,10000000,10000000,3000000,10000000]\n",
    "\n",
    "#También se define un arreglo que indica a cuanto se vende cada bloque, los cuales también son correlativos a la \n",
    "#posición en la que se encuentran. \n",
    "v = [2000000,0,0,0,0,0,3000000,0,0,5000000,0,2000000,0,0,0,0,10000000,12000000]\n",
    "\n",
    "\n",
    "#Luego se define que el problema tendrá 18 variables de decisión, a las que se le asigna el nombre \"x\" y que son\n",
    "#de tipo binaria, es decir, solo pueden tomar valores 0 o 1. Estas variables representan si el bloque se sacará o no\n",
    "@variable(modeloProblema2, x[1:18], Bin)\n",
    "\n",
    "#Se debe modelar con objetive la función objetivo, a la cual se le indica que es una maximización. Se le entrega el \n",
    "#arreglo de venta, costos y las variables de decisión. \n",
    "@objective(modeloProblema2, Max, sum((v[i]-c[i])*x[i] for i in 1:18))\n",
    "\n",
    "#A continuación se definen con constraint las restricciones que tiene el modelo. Como ya se indicó que las variables de\n",
    "#decisión solo pueden tomar valores 0 o 1, no es necesario volver a especificarlo en las restricciones. \n",
    "@constraint(modeloProblema2, x[9] - x[1] <= 0)\n",
    "@constraint(modeloProblema2, x[9] - x[2] <= 0)\n",
    "@constraint(modeloProblema2, x[9] - x[3] <= 0)\n",
    "@constraint(modeloProblema2, x[10] - x[2] <= 0)\n",
    "@constraint(modeloProblema2, x[10] - x[3] <= 0)\n",
    "@constraint(modeloProblema2, x[10] - x[4] <= 0)\n",
    "@constraint(modeloProblema2, x[11] - x[3] <= 0)\n",
    "@constraint(modeloProblema2, x[11] - x[4] <= 0)\n",
    "@constraint(modeloProblema2, x[11] - x[5] <= 0)\n",
    "@constraint(modeloProblema2, x[12] - x[4] <= 0)\n",
    "@constraint(modeloProblema2, x[12] - x[5] <= 0)\n",
    "@constraint(modeloProblema2, x[12] - x[6] <= 0)\n",
    "@constraint(modeloProblema2, x[13] - x[5] <= 0)\n",
    "@constraint(modeloProblema2, x[13] - x[6] <= 0)\n",
    "@constraint(modeloProblema2, x[13] - x[7] <= 0)\n",
    "@constraint(modeloProblema2, x[14] - x[6] <= 0)\n",
    "@constraint(modeloProblema2, x[14] - x[7] <= 0)\n",
    "@constraint(modeloProblema2, x[14] - x[8] <= 0)\n",
    "@constraint(modeloProblema2, x[15] - x[9] <= 0)\n",
    "@constraint(modeloProblema2, x[15] - x[10] <= 0)\n",
    "@constraint(modeloProblema2, x[15] - x[11] <= 0)\n",
    "@constraint(modeloProblema2, x[16] - x[10] <= 0)\n",
    "@constraint(modeloProblema2, x[16] - x[11] <= 0)\n",
    "@constraint(modeloProblema2, x[16] - x[12] <= 0)\n",
    "@constraint(modeloProblema2, x[17] - x[11] <= 0)\n",
    "@constraint(modeloProblema2, x[17] - x[12] <= 0)\n",
    "@constraint(modeloProblema2, x[17] - x[13] <= 0)\n",
    "@constraint(modeloProblema2, x[18] - x[12] <= 0)\n",
    "@constraint(modeloProblema2, x[18] - x[13] <= 0)\n",
    "@constraint(modeloProblema2, x[18] - x[14] <= 0)"
   ]
  },
  {
   "cell_type": "code",
   "execution_count": 6,
   "metadata": {},
   "outputs": [
    {
     "data": {
      "text/plain": [
       "4.0e6"
      ]
     },
     "execution_count": 6,
     "metadata": {},
     "output_type": "execute_result"
    }
   ],
   "source": [
    "#Por último, se resuelve el problema de optimización, el cuál entrega un valor de 4*10^6, lo que indica que esa es la\n",
    "#ganancia que se obtiene al sacar los bloques. \n",
    "optimize!(modeloProblema2)\n",
    "objective_value(modeloProblema2)"
   ]
  },
  {
   "cell_type": "code",
   "execution_count": 7,
   "metadata": {},
   "outputs": [
    {
     "name": "stdout",
     "output_type": "stream",
     "text": [
      "Variable X1 = 1.0\n",
      "Variable X2 = 1.0\n",
      "Variable X3 = 1.0\n",
      "Variable X4 = 1.0\n",
      "Variable X5 = 1.0\n",
      "Variable X6 = 1.0\n",
      "Variable X7 = 1.0\n",
      "Variable X8 = 0.0\n",
      "Variable X9 = 0.0\n",
      "Variable X10 = 1.0\n",
      "Variable X11 = 1.0\n",
      "Variable X12 = 1.0\n",
      "Variable X13 = 1.0\n",
      "Variable X14 = 0.0\n",
      "Variable X15 = 0.0\n",
      "Variable X16 = 0.0\n",
      "Variable X17 = 1.0\n",
      "Variable X18 = 0.0\n"
     ]
    }
   ],
   "source": [
    "#Mediante el for también es posible obtener los valores que adquiere cada una de las variables de decisión, \n",
    "#las cuales si se encuentran en 1 indican que el bloque fue sacado y en 0 que no. En este caso, se sacaron 12 bloques.\n",
    "for j in 1:18\n",
    "    println(\"Variable X\",j,\" = \",value(x[j]))\n",
    "end"
   ]
  }
 ],
 "metadata": {
  "kernelspec": {
   "display_name": "Julia 1.6.1",
   "language": "julia",
   "name": "julia-1.6"
  },
  "language_info": {
   "file_extension": ".jl",
   "mimetype": "application/julia",
   "name": "julia",
   "version": "1.6.1"
  }
 },
 "nbformat": 4,
 "nbformat_minor": 5
}

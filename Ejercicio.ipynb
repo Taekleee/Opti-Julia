{
 "cells": [
  {
   "cell_type": "markdown",
   "id": "c255ae03",
   "metadata": {},
   "source": [
    "# Problema 2\n",
    "\n",
    "Se está prospectado una mina de uranio a cielo abierto. Sobre la base de los resultados de\n",
    "algunas perforaciones de prueba, la mina se ha subdividido en unidades de explotación\n",
    "denominadas bloques. Las excavaciones se deben realizar en forma aterrazada, con el fin de\n",
    "permitir la circulación de los camiones. El yacimiento se extiende de este a oeste, viéndose\n",
    "limitada por un pueblo y por un conjunto montañoso. Considerando estas limitaciones, se han\n",
    "identificado 18 bloques de 10.000 toneladas distribuidos en tres niveles. Para extraer un bloque,\n",
    "es necesario antes extraer tres bloques del nivel inmediatamente superior, siendo estos, el bloque\n",
    "superior y los ubicados a la derecha y a la izquierda de este. Ejemplo: Para extraer el bloque 16,\n",
    "antes se deben extraer los bloques 10, 11 y 12. "
   ]
  },
  {
   "cell_type": "markdown",
   "id": "d7979e06",
   "metadata": {},
   "source": [
    "Resolución:\n",
    "Variables de decisión: \n",
    "    $x_{i}$ = puede tomar valores 0 o 1, donde 0 significa que no se extrae el bloque y 1 que si\n",
    "    $i = 1,2,3,..., 18$\n",
    "\n",
    "Función objetivo: \n",
    "    z: max $\\sum_{i=1}^{18} (v_{i} - c_{i})*x_{i}$\n",
    "    \n",
    "Restricciones: \n",
    "    $ x_{9} - x_{1} \\leq 0 $,\n",
    "    $x_{9} - x_{2} \\leq 0$,\n",
    "    $x_{9} - x_{3} \\leq 0$,\n",
    "    $x_{10} - x_{2} \\leq 0$,\n",
    "    $x_{10} - x_{3} \\leq 0$,\n",
    "    $x_{10} - x_{4} \\leq 0$,\n",
    "    $x_{11} - x_{3} \\leq 0$,\n",
    "    $x_{11} - x_{4} \\leq 0$,\n",
    "    $x_{11} - x_{5} \\leq 0$,\n",
    "    $x_{12} - x_{4} \\leq 0$,\n",
    "    $x_{12} - x_{5} \\leq 0$,\n",
    "    $x_{12} - x_{6} \\leq 0$,\n",
    "    $x_{13} - x_{5} \\leq 0$,\n",
    "    $x_{13} - x_{6} \\leq 0$,\n",
    "    $x_{13} - x_{7} \\leq 0$,\n",
    "    $x_{14} - x_{6} \\leq 0$,\n",
    "    $x_{14} - x_{7} \\leq 0$,\n",
    "    $x_{14} - x_{8} \\leq 0$,\n",
    "    $x_{15} - x_{9} \\leq 0$,\n",
    "    $x_{15} - x_{10} \\leq 0$,\n",
    "    $x_{15} - x_{11} \\leq 0$,\n",
    "    $x_{16} - x_{10} \\leq 0$,\n",
    "    $x_{16} - x_{11} \\leq 0$,\n",
    "    $x_{16} - x_{12} \\leq 0$,\n",
    "    $x_{17} - x_{11} \\leq 0$,\n",
    "    $x_{17} - x_{12} \\leq 0$,\n",
    "    $x_{17} - x_{13} \\leq 0$,\n",
    "    $x_{18} - x_{12} \\leq 0$,\n",
    "    $x_{18} - x_{13} \\leq 0$,\n",
    "    $x_{18} - x_{14} \\leq 0$"
   ]
  },
  {
   "cell_type": "code",
   "execution_count": 1,
   "id": "3d9473b7",
   "metadata": {},
   "outputs": [
    {
     "data": {
      "text/plain": [
       "A JuMP Model\n",
       "Feasibility problem with:\n",
       "Variables: 0\n",
       "Model mode: AUTOMATIC\n",
       "CachingOptimizer state: EMPTY_OPTIMIZER\n",
       "Solver name: GLPK"
      ]
     },
     "execution_count": 1,
     "metadata": {},
     "output_type": "execute_result"
    }
   ],
   "source": [
    "import Pkg # Importa el administrador de paquetes Pkg\n",
    "Pkg.add(\"JuMP\") # Instala el paquete JuMP\n",
    "Pkg.add(\"GLPK\") # Instala el paquete GLPK\n",
    "using JuMP # Importa el modulo JuMP.\n",
    "using GLPK # Importa el modulo GLPK para utilizar el solver.\n",
    "\n",
    "# CONSTRUCCIÓN DEL MODELO\n",
    "modeloProblema2 = Model(with_optimizer(GLPK.Optimizer))"
   ]
  },
  {
   "cell_type": "code",
   "execution_count": 2,
   "id": "db53f9be",
   "metadata": {},
   "outputs": [
    {
     "data": {
      "text/plain": [
       "18-element Vector{Int64}:\n",
       "  200\n",
       "    0\n",
       "    0\n",
       "    0\n",
       "    0\n",
       "    0\n",
       "  300\n",
       "    0\n",
       "    0\n",
       "  500\n",
       "    0\n",
       "  200\n",
       "    0\n",
       "    0\n",
       "    0\n",
       "    0\n",
       " 1000\n",
       " 1200"
      ]
     },
     "execution_count": 2,
     "metadata": {},
     "output_type": "execute_result"
    }
   ],
   "source": [
    "#Costos por bloque\n",
    "\n",
    "c = [100,100,100,100,100,100,100,100,1000,200,200,200,200,1000,1000,1000,300,1000]\n",
    "\n",
    "#venta por bloque\n",
    "\n",
    "v = [200,0,0,0,0,0,300,0,0,500,0,200,0,0,0,0,1000,1200]"
   ]
  },
  {
   "cell_type": "code",
   "execution_count": 3,
   "id": "0e52bb4e",
   "metadata": {},
   "outputs": [
    {
     "data": {
      "text/plain": [
       "18-element Vector{VariableRef}:\n",
       " x[1]\n",
       " x[2]\n",
       " x[3]\n",
       " x[4]\n",
       " x[5]\n",
       " x[6]\n",
       " x[7]\n",
       " x[8]\n",
       " x[9]\n",
       " x[10]\n",
       " x[11]\n",
       " x[12]\n",
       " x[13]\n",
       " x[14]\n",
       " x[15]\n",
       " x[16]\n",
       " x[17]\n",
       " x[18]"
      ]
     },
     "execution_count": 3,
     "metadata": {},
     "output_type": "execute_result"
    }
   ],
   "source": [
    "@variable(modeloProblema2, x[1:18], Bin)"
   ]
  },
  {
   "cell_type": "code",
   "execution_count": 6,
   "id": "d6cced3b",
   "metadata": {},
   "outputs": [
    {
     "data": {
      "text/latex": [
       "$$ 100 x_{1} - 100 x_{2} - 100 x_{3} - 100 x_{4} - 100 x_{5} - 100 x_{6} + 200 x_{7} - 100 x_{8} - 1000 x_{9} + 300 x_{10} - 200 x_{11} + 0 x_{12} - 200 x_{13} - 1000 x_{14} - 1000 x_{15} - 1000 x_{16} + 700 x_{17} + 200 x_{18} $$"
      ],
      "text/plain": [
       "100 x[1] - 100 x[2] - 100 x[3] - 100 x[4] - 100 x[5] - 100 x[6] + 200 x[7] - 100 x[8] - 1000 x[9] + 300 x[10] - 200 x[11] + 0 x[12] - 200 x[13] - 1000 x[14] - 1000 x[15] - 1000 x[16] + 700 x[17] + 200 x[18]"
      ]
     },
     "execution_count": 6,
     "metadata": {},
     "output_type": "execute_result"
    }
   ],
   "source": [
    "@objective(modeloProblema2, Max, sum((v[i]-c[i])*x[i] for i in 1:18))"
   ]
  },
  {
   "cell_type": "code",
   "execution_count": 10,
   "id": "906cbdbf",
   "metadata": {},
   "outputs": [
    {
     "data": {
      "text/latex": [
       "$$ -x_{14} + x_{18} \\leq 0.0 $$"
      ],
      "text/plain": [
       "-x[14] + x[18] ≤ 0.0"
      ]
     },
     "execution_count": 10,
     "metadata": {},
     "output_type": "execute_result"
    }
   ],
   "source": [
    "@constraint(modeloProblema2, x[9] - x[1] <= 0)\n",
    "@constraint(modeloProblema2, x[9] - x[2] <= 0)\n",
    "@constraint(modeloProblema2, x[9] - x[3] <= 0)\n",
    "@constraint(modeloProblema2, x[10] - x[2] <= 0)\n",
    "@constraint(modeloProblema2, x[10] - x[3] <= 0)\n",
    "@constraint(modeloProblema2, x[10] - x[4] <= 0)\n",
    "@constraint(modeloProblema2, x[11] - x[3] <= 0)\n",
    "@constraint(modeloProblema2, x[11] - x[4] <= 0)\n",
    "@constraint(modeloProblema2, x[11] - x[5] <= 0)\n",
    "@constraint(modeloProblema2, x[12] - x[4] <= 0)\n",
    "@constraint(modeloProblema2, x[12] - x[5] <= 0)\n",
    "@constraint(modeloProblema2, x[12] - x[6] <= 0)\n",
    "@constraint(modeloProblema2, x[13] - x[5] <= 0)\n",
    "@constraint(modeloProblema2, x[13] - x[6] <= 0)\n",
    "@constraint(modeloProblema2, x[13] - x[7] <= 0)\n",
    "@constraint(modeloProblema2, x[14] - x[6] <= 0)\n",
    "@constraint(modeloProblema2, x[14] - x[7] <= 0)\n",
    "@constraint(modeloProblema2, x[14] - x[8] <= 0)\n",
    "@constraint(modeloProblema2, x[15] - x[9] <= 0)\n",
    "@constraint(modeloProblema2, x[15] - x[10] <= 0)\n",
    "@constraint(modeloProblema2, x[15] - x[11] <= 0)\n",
    "@constraint(modeloProblema2, x[16] - x[10] <= 0)\n",
    "@constraint(modeloProblema2, x[16] - x[11] <= 0)\n",
    "@constraint(modeloProblema2, x[16] - x[12] <= 0)\n",
    "@constraint(modeloProblema2, x[17] - x[11] <= 0)\n",
    "@constraint(modeloProblema2, x[17] - x[12] <= 0)\n",
    "@constraint(modeloProblema2, x[17] - x[13] <= 0)\n",
    "@constraint(modeloProblema2, x[18] - x[12] <= 0)\n",
    "@constraint(modeloProblema2, x[18] - x[13] <= 0)\n",
    "@constraint(modeloProblema2, x[18] - x[14] <= 0)"
   ]
  },
  {
   "cell_type": "code",
   "execution_count": 11,
   "id": "1a3799b1",
   "metadata": {},
   "outputs": [
    {
     "data": {
      "text/plain": [
       "400.0"
      ]
     },
     "execution_count": 11,
     "metadata": {},
     "output_type": "execute_result"
    }
   ],
   "source": [
    "optimize!(modeloProblema2)\n",
    "objective_value(modeloProblema2)"
   ]
  },
  {
   "cell_type": "code",
   "execution_count": 15,
   "id": "fbc0bcf8",
   "metadata": {},
   "outputs": [
    {
     "name": "stdout",
     "output_type": "stream",
     "text": [
      "Variable X1 = 1.0\n",
      "Variable X2 = 1.0\n",
      "Variable X3 = 1.0\n",
      "Variable X4 = 1.0\n",
      "Variable X5 = 1.0\n",
      "Variable X6 = 1.0\n",
      "Variable X7 = 1.0\n",
      "Variable X8 = 0.0\n",
      "Variable X9 = 0.0\n",
      "Variable X10 = 1.0\n",
      "Variable X11 = 1.0\n",
      "Variable X12 = 1.0\n",
      "Variable X13 = 1.0\n",
      "Variable X14 = 0.0\n",
      "Variable X15 = 0.0\n",
      "Variable X16 = 0.0\n",
      "Variable X17 = 1.0\n",
      "Variable X18 = 0.0\n"
     ]
    }
   ],
   "source": [
    "for j in 1:18\n",
    "    println(\"Variable X\",j,\" = \",value(x[j]))\n",
    "end"
   ]
  },
  {
   "cell_type": "code",
   "execution_count": null,
   "id": "b8af2a7f",
   "metadata": {},
   "outputs": [],
   "source": []
  }
 ],
 "metadata": {
  "kernelspec": {
   "display_name": "Julia 1.6.1",
   "language": "julia",
   "name": "julia-1.6"
  },
  "language_info": {
   "file_extension": ".jl",
   "mimetype": "application/julia",
   "name": "julia",
   "version": "1.6.1"
  }
 },
 "nbformat": 4,
 "nbformat_minor": 5
}
